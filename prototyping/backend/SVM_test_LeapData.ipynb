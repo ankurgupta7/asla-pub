{
 "cells": [
  {
   "cell_type": "code",
   "execution_count": 127,
   "metadata": {
    "collapsed": false
   },
   "outputs": [],
   "source": [
    "import pandas as pd\n",
    "import numpy as np\n",
    "import sklearn\n",
    "import matplotlib.pyplot as plt\n",
    "from sklearn.cross_validation import train_test_split\n",
    "from sklearn.cross_validation import KFold\n",
    "from sklearn import svm\n",
    "from sklearn import metrics\n",
    "from sklearn import preprocessing\n",
    "from sklearn.externals import joblib"
   ]
  },
  {
   "cell_type": "code",
   "execution_count": 149,
   "metadata": {
    "collapsed": false
   },
   "outputs": [],
   "source": [
    "#train and test data extraction\n",
    "df = pd.read_csv('LeapData.csv')\n",
    "train_data = pd.DataFrame()\n",
    "test_data = pd.DataFrame()\n",
    "labels = set(df.sign)\n",
    "for l in labels:\n",
    "    temp = df[df['sign'] == l]\n",
    "    for i in range(0,100):\n",
    "        train_data = train_data.append(temp.iloc[i])\n",
    "    for j in range(100,140):\n",
    "        test_data = test_data.append(temp.iloc[j])"
   ]
  },
  {
   "cell_type": "code",
   "execution_count": 150,
   "metadata": {
    "collapsed": false
   },
   "outputs": [],
   "source": [
    "# resetting the index for both sets\n",
    "test_data = test_data.reset_index(drop = True)\n",
    "train_data = train_data.reset_index(drop = True)\n",
    "#shuffling the rows in test and train data\n",
    "train_data = train_data.iloc[np.random.permutation(len(train_data))]\n",
    "test_data = test_data.iloc[np.random.permutation(len(test_data))]\n",
    "test_data = test_data.reset_index(drop = True)\n",
    "train_data = train_data.reset_index(drop = True)\n",
    "x_train = train_data.ix[:, train_data.columns != 'sign']\n",
    "y_train = train_data['sign']\n",
    "x_test = test_data.ix[:, test_data.columns != 'sign']\n",
    "y_test = test_data['sign']"
   ]
  },
  {
   "cell_type": "code",
   "execution_count": 151,
   "metadata": {
    "collapsed": false
   },
   "outputs": [],
   "source": [
    "#scaling the train data\n",
    "scaler = preprocessing.StandardScaler().fit(x_train)\n",
    "x_train_scaled = scaler.transform(x_train)\n",
    "#x_train = x_train.as_matrix()"
   ]
  },
  {
   "cell_type": "code",
   "execution_count": 164,
   "metadata": {
    "collapsed": false
   },
   "outputs": [
    {
     "name": "stdout",
     "output_type": "stream",
     "text": [
      "CV accuracy: 0.98 (+/- 0.00)\n"
     ]
    }
   ],
   "source": [
    "scores = []\n",
    "svc = svm.SVC(C=10, kernel='rbf')\n",
    "for train, valid in KFold(x_train_scaled.shape[0], 10,shuffle = True):\n",
    "    scores.append(svc.fit(x_train_scaled[train],y_train[train]).score(x_train_scaled[valid],y_train[valid]))\n",
    "print (\"CV accuracy: %0.2f (+/- %0.2f)\" %(np.mean(scores), np.std(scores)**2))"
   ]
  },
  {
   "cell_type": "code",
   "execution_count": 129,
   "metadata": {
    "collapsed": false
   },
   "outputs": [
    {
     "data": {
      "text/plain": [
       "['scaler_Sam.pkl',\n",
       " 'scaler_Sam.pkl_01.npy',\n",
       " 'scaler_Sam.pkl_02.npy',\n",
       " 'scaler_Sam.pkl_03.npy']"
      ]
     },
     "execution_count": 129,
     "metadata": {},
     "output_type": "execute_result"
    }
   ],
   "source": []
  },
  {
   "cell_type": "code",
   "execution_count": 161,
   "metadata": {
    "collapsed": true
   },
   "outputs": [],
   "source": [
    "scaler = preprocessing.StandardScaler().fit(x_test)\n",
    "x_test_scaled = scaler.transform(x_test)"
   ]
  },
  {
   "cell_type": "code",
   "execution_count": 162,
   "metadata": {
    "collapsed": false
   },
   "outputs": [
    {
     "name": "stdout",
     "output_type": "stream",
     "text": [
      "             precision    recall  f1-score   support\n",
      "\n",
      "          a       0.88      0.95      0.92        40\n",
      "          b       0.90      0.90      0.90        40\n",
      "          c       0.93      0.95      0.94        40\n",
      "          d       1.00      0.82      0.90        40\n",
      "          e       0.83      1.00      0.91        40\n",
      "          f       1.00      1.00      1.00        40\n",
      "          g       0.82      0.57      0.68        40\n",
      "          h       0.28      0.47      0.35        40\n",
      "          i       1.00      1.00      1.00        40\n",
      "          j       0.40      0.53      0.46        40\n",
      "          k       1.00      1.00      1.00        40\n",
      "          l       1.00      1.00      1.00        40\n",
      "          m       0.97      0.72      0.83        40\n",
      "          n       0.62      0.53      0.57        40\n",
      "          o       0.61      0.97      0.75        40\n",
      "          p       0.25      0.03      0.05        40\n",
      "          q       0.50      0.53      0.51        40\n",
      "          r       1.00      1.00      1.00        40\n",
      "          s       0.93      1.00      0.96        40\n",
      "          t       0.35      0.55      0.43        40\n",
      "          u       1.00      1.00      1.00        40\n",
      "          v       1.00      1.00      1.00        40\n",
      "          w       0.91      1.00      0.95        40\n",
      "          x       0.00      0.00      0.00        40\n",
      "          y       1.00      1.00      1.00        40\n",
      "          z       0.84      0.93      0.88        40\n",
      "\n",
      "avg / total       0.77      0.79      0.77      1040\n",
      "\n"
     ]
    }
   ],
   "source": [
    "y_test_pred = svc.predict(x_test_scaled)\n",
    "print metrics.classification_report(y_test, y_test_pred)"
   ]
  },
  {
   "cell_type": "code",
   "execution_count": null,
   "metadata": {
    "collapsed": true
   },
   "outputs": [],
   "source": []
  }
 ],
 "metadata": {
  "kernelspec": {
   "display_name": "Python [Root]",
   "language": "python",
   "name": "Python [Root]"
  },
  "language_info": {
   "codemirror_mode": {
    "name": "ipython",
    "version": 2
   },
   "file_extension": ".py",
   "mimetype": "text/x-python",
   "name": "python",
   "nbconvert_exporter": "python",
   "pygments_lexer": "ipython2",
   "version": "2.7.12"
  }
 },
 "nbformat": 4,
 "nbformat_minor": 0
}
