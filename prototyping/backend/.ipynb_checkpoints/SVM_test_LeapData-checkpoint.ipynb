{
 "cells": [
  {
   "cell_type": "code",
   "execution_count": 67,
   "metadata": {
    "collapsed": false
   },
   "outputs": [],
   "source": [
    "import pandas as pd\n",
    "import numpy as np\n",
    "import sklearn\n",
    "import matplotlib.pyplot as plt\n",
    "from sklearn.cross_validation import train_test_split\n",
    "from sklearn.cross_validation import KFold\n",
    "from sklearn import svm\n",
    "from sklearn import metrics\n",
    "from sklearn import preprocessing\n",
    "from sklearn.neighbors import KNeighborsClassifier"
   ]
  },
  {
   "cell_type": "code",
   "execution_count": 63,
   "metadata": {
    "collapsed": false
   },
   "outputs": [],
   "source": [
    "#train and test data extraction\n",
    "df = pd.read_csv('LeapData.csv')\n",
    "train_data = pd.DataFrame()\n",
    "test_data = pd.DataFrame()\n",
    "labels = set(df.sign)\n",
    "for l in labels:\n",
    "    temp = df[df['sign'] == l]\n",
    "    for i in range(0,100):\n",
    "        train_data = train_data.append(temp.iloc[i])\n",
    "    for j in range(100,140):\n",
    "        test_data = test_data.append(temp.iloc[j])\n"
   ]
  },
  {
   "cell_type": "code",
   "execution_count": 105,
   "metadata": {
    "collapsed": false
   },
   "outputs": [],
   "source": [
    "# resetting the index for both sets\n",
    "test_data = test_data.reset_index(drop = True)\n",
    "train_data = train_data.reset_index(drop = True)\n",
    "\n",
    "#shuffling the rows in test and train data\n",
    "train_data = train_data.iloc[np.random.permutation(len(train_data))]\n",
    "test_data = test_data.iloc[np.random.permutation(len(test_data))]\n",
    "\n",
    "x_train = train_data.ix[:, train_data.columns != 'sign']\n",
    "y_train = train_data['sign']\n",
    "x_test = test_data.ix[:, test_data.columns != 'sign']\n",
    "y_test = test_data['sign']"
   ]
  },
  {
   "cell_type": "code",
   "execution_count": 113,
   "metadata": {
    "collapsed": false
   },
   "outputs": [],
   "source": [
    "#scaling the train data\n",
    "scaler = preprocessing.StandardScaler().fit(x_train)\n",
    "x_train_scaled = scaler.transform(x_train)\n",
    "\n"
   ]
  },
  {
   "cell_type": "code",
   "execution_count": 114,
   "metadata": {
    "collapsed": false
   },
   "outputs": [
    {
     "name": "stdout",
     "output_type": "stream",
     "text": [
      "[0.030769230769230771, 0.038461538461538464, 0.035384615384615382, 0.026153846153846153]\n"
     ]
    }
   ],
   "source": [
    "scores = []\n",
    "svc = svm.SVC(C=10, kernel='rbf')\n",
    "for train, valid in KFold(x_train_scaled.shape[0], 4):\n",
    "    scores.append(svc.fit(x_train_scaled[train],y_train[train]).score(x_train_scaled[valid],y_train[valid]))\n",
    "print scores"
   ]
  },
  {
   "cell_type": "code",
   "execution_count": 102,
   "metadata": {
    "collapsed": false
   },
   "outputs": [
    {
     "name": "stdout",
     "output_type": "stream",
     "text": [
      "(1950, 60)\n",
      "(1950, 60)\n",
      "(1950, 60)\n",
      "(1950, 60)\n",
      "[0.044615384615384612, 0.043076923076923075, 0.032307692307692308, 0.032307692307692308, 0.038461538461538464, 0.038461538461538464, 0.038461538461538464, 0.035384615384615382, 0.040000000000000001, 0.036923076923076927]\n"
     ]
    }
   ],
   "source": [
    "clf = KNeighborsClassifier(10)\n",
    "for train, valid in KFold(x_train_scaled.shape[0], 4):\n",
    "    scores.append(clf.fit(x_train_scaled[train],y_train[train]).score(x_train_scaled[valid],y_train[valid]))\n",
    "    print x_train_scaled[train].shape\n",
    "print scores"
   ]
  },
  {
   "cell_type": "code",
   "execution_count": null,
   "metadata": {
    "collapsed": true
   },
   "outputs": [],
   "source": []
  }
 ],
 "metadata": {
  "kernelspec": {
   "display_name": "Python [Root]",
   "language": "python",
   "name": "Python [Root]"
  },
  "language_info": {
   "codemirror_mode": {
    "name": "ipython",
    "version": 2
   },
   "file_extension": ".py",
   "mimetype": "text/x-python",
   "name": "python",
   "nbconvert_exporter": "python",
   "pygments_lexer": "ipython2",
   "version": "2.7.12"
  }
 },
 "nbformat": 4,
 "nbformat_minor": 0
}
